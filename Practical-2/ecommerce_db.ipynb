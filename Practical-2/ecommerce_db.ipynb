{
 "cells": [
  {
   "cell_type": "code",
   "execution_count": 1,
   "id": "7d24fb83",
   "metadata": {},
   "outputs": [
    {
     "name": "stdout",
     "output_type": "stream",
     "text": [
      "Requirement already satisfied: mysql-connector-python in c:\\users\\lenovo\\anaconda3\\lib\\site-packages (9.4.0)\n",
      "Note: you may need to restart the kernel to use updated packages.\n"
     ]
    },
    {
     "name": "stderr",
     "output_type": "stream",
     "text": [
      "WARNING: Ignoring invalid distribution -rotobuf (c:\\users\\lenovo\\anaconda3\\lib\\site-packages)\n",
      "WARNING: Ignoring invalid distribution -rotobuf (c:\\users\\lenovo\\anaconda3\\lib\\site-packages)\n",
      "WARNING: Ignoring invalid distribution -rotobuf (c:\\users\\lenovo\\anaconda3\\lib\\site-packages)\n",
      "WARNING: Ignoring invalid distribution -rotobuf (c:\\users\\lenovo\\anaconda3\\lib\\site-packages)\n",
      "WARNING: Ignoring invalid distribution -rotobuf (c:\\users\\lenovo\\anaconda3\\lib\\site-packages)\n",
      "WARNING: Ignoring invalid distribution -rotobuf (c:\\users\\lenovo\\anaconda3\\lib\\site-packages)\n"
     ]
    }
   ],
   "source": [
    "pip install mysql-connector-python\n"
   ]
  },
  {
   "cell_type": "code",
   "execution_count": 4,
   "id": "5b8e91b5",
   "metadata": {},
   "outputs": [],
   "source": [
    "import mysql.connector\n",
    "\n",
    "# Establish connection\n",
    "conn = mysql.connector.connect(\n",
    "    host=\"localhost\",      # your MySQL host (usually localhost)\n",
    "    user=\"root\",           # your MySQL username\n",
    "    password=\"#Pawan3108\",  # your MySQL password\n",
    "    database=\"ecommerce_db\"   # database name (create if not exists)\n",
    ")\n",
    "\n",
    "cursor = conn.cursor()\n"
   ]
  },
  {
   "cell_type": "code",
   "execution_count": 5,
   "id": "35bd3684",
   "metadata": {},
   "outputs": [],
   "source": [
    "# Users Table\n",
    "cursor.execute(\"\"\"\n",
    "CREATE TABLE IF NOT EXISTS users (\n",
    "    user_id INT AUTO_INCREMENT PRIMARY KEY,\n",
    "    name VARCHAR(100) NOT NULL,\n",
    "    email VARCHAR(100) UNIQUE NOT NULL\n",
    ")\n",
    "\"\"\")\n",
    "\n",
    "# Products Table\n",
    "cursor.execute(\"\"\"\n",
    "CREATE TABLE IF NOT EXISTS products (\n",
    "    product_id INT AUTO_INCREMENT PRIMARY KEY,\n",
    "    name VARCHAR(100) NOT NULL,\n",
    "    price DECIMAL(10,2) NOT NULL\n",
    ")\n",
    "\"\"\")\n",
    "\n",
    "# Orders Table\n",
    "cursor.execute(\"\"\"\n",
    "CREATE TABLE IF NOT EXISTS orders (\n",
    "    order_id INT AUTO_INCREMENT PRIMARY KEY,\n",
    "    user_id INT,\n",
    "    order_date DATETIME DEFAULT CURRENT_TIMESTAMP,\n",
    "    FOREIGN KEY (user_id) REFERENCES users(user_id) ON DELETE CASCADE\n",
    ")\n",
    "\"\"\")\n",
    "\n",
    "# Order Items Table (Many-to-Many between orders and products)\n",
    "cursor.execute(\"\"\"\n",
    "CREATE TABLE IF NOT EXISTS order_items (\n",
    "    id INT AUTO_INCREMENT PRIMARY KEY,\n",
    "    order_id INT,\n",
    "    product_id INT,\n",
    "    quantity INT NOT NULL,\n",
    "    price DECIMAL(10,2) NOT NULL,\n",
    "    FOREIGN KEY (order_id) REFERENCES orders(order_id) ON DELETE CASCADE,\n",
    "    FOREIGN KEY (product_id) REFERENCES products(product_id) ON DELETE CASCADE\n",
    ")\n",
    "\"\"\")\n",
    "\n",
    "# Reviews Table\n",
    "cursor.execute(\"\"\"\n",
    "CREATE TABLE IF NOT EXISTS reviews (\n",
    "    review_id INT AUTO_INCREMENT PRIMARY KEY,\n",
    "    user_id INT,\n",
    "    product_id INT,\n",
    "    rating INT CHECK (rating BETWEEN 1 AND 5),\n",
    "    comment TEXT,\n",
    "    FOREIGN KEY (user_id) REFERENCES users(user_id) ON DELETE CASCADE,\n",
    "    FOREIGN KEY (product_id) REFERENCES products(product_id) ON DELETE CASCADE\n",
    ")\n",
    "\"\"\")\n"
   ]
  },
  {
   "cell_type": "code",
   "execution_count": 6,
   "id": "89adc829",
   "metadata": {},
   "outputs": [],
   "source": [
    "conn.commit()"
   ]
  },
  {
   "cell_type": "code",
   "execution_count": 7,
   "id": "963cb32a",
   "metadata": {},
   "outputs": [
    {
     "data": {
      "text/plain": [
       "True"
      ]
     },
     "execution_count": 7,
     "metadata": {},
     "output_type": "execute_result"
    }
   ],
   "source": [
    "cursor.close()"
   ]
  },
  {
   "cell_type": "code",
   "execution_count": 8,
   "id": "e784579f",
   "metadata": {},
   "outputs": [],
   "source": [
    "conn.close()"
   ]
  },
  {
   "cell_type": "code",
   "execution_count": null,
   "id": "20d5dcdd",
   "metadata": {},
   "outputs": [],
   "source": []
  }
 ],
 "metadata": {
  "kernelspec": {
   "display_name": "Python 3 (ipykernel)",
   "language": "python",
   "name": "python3"
  },
  "language_info": {
   "codemirror_mode": {
    "name": "ipython",
    "version": 3
   },
   "file_extension": ".py",
   "mimetype": "text/x-python",
   "name": "python",
   "nbconvert_exporter": "python",
   "pygments_lexer": "ipython3",
   "version": "3.10.9"
  }
 },
 "nbformat": 4,
 "nbformat_minor": 5
}
